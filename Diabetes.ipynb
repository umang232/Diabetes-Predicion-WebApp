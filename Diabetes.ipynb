{
  "nbformat": 4,
  "nbformat_minor": 0,
  "metadata": {
    "colab": {
      "name": "Diabetes.ipynb",
      "provenance": [],
      "authorship_tag": "ABX9TyNViZNilOIN9D8kN2VCDg1N"
    },
    "kernelspec": {
      "name": "python3",
      "display_name": "Python 3"
    }
  },
  "cells": [
    {
      "cell_type": "code",
      "metadata": {
        "id": "wClHWl5JvJ-1",
        "colab_type": "code",
        "colab": {}
      },
      "source": [
        "!pip install streamlit"
      ],
      "execution_count": null,
      "outputs": []
    },
    {
      "cell_type": "code",
      "metadata": {
        "id": "XfVbxFQhvTmU",
        "colab_type": "code",
        "colab": {}
      },
      "source": [
        "!wget https://bin.equinox.io/c/4VmDzA7iaHb/ngrok-stable-linux-amd64.zip\n",
        "!unzip -qq ngrok-stable-linux-amd64.zip"
      ],
      "execution_count": null,
      "outputs": []
    },
    {
      "cell_type": "code",
      "metadata": {
        "id": "RXK7KhQrva4c",
        "colab_type": "code",
        "colab": {}
      },
      "source": [
        "%%writefile app.py\n",
        "import streamlit as st\n",
        "import pandas as pd\n",
        "from PIL import Image\n",
        "from sklearn.metrics import accuracy_score\n",
        "from sklearn.model_selection import train_test_split\n",
        "from sklearn.ensemble import RandomForestClassifier\n",
        "\n",
        "#Create title and subtitle\n",
        "\n",
        "st.title(\"Diabetes Detection\")\n",
        "st.write(\"\"\"\n",
        "Detect if someone has diabetes usng machine learning and python!    \n",
        "\"\"\")\n",
        "\n",
        "#Get the data from github\n",
        "url = 'https://raw.githubusercontent.com/anumolugoutham/diabetes.csv/master/diabetes.csv'\n",
        "df = pd.read_csv(url)\n",
        "\n",
        "#Subheader\n",
        "st.subheader('Data Information : ')\n",
        "\n",
        "#Show the data as a table\n",
        "st.dataframe(df)\n",
        "\n",
        "#Show statistics on data\n",
        "st.subheader('Statistical Information : ')\n",
        "st.write(df.describe())\n",
        "\n",
        "#Show the data as a chart\n",
        "st.subheader('Chart : ')\n",
        "chart = st.bar_chart(df)\n",
        "\n",
        "#Split the data into independent 'X' abnd independent 'Y\" variables\n",
        "X = df.iloc[:, 0:8].values\n",
        "Y = df.iloc[:, -1].values\n",
        "\n",
        "#Split the data for training and testing\n",
        "X_train, X_test, Y_train, Y_test = train_test_split(X,Y, test_size= 0.25,random_state = 0)\n",
        "\n",
        "#Get the feature input from the user\n",
        "def get_user_input():\n",
        "  pregnancies = st.sidebar.slider('pregnancies',0,17,3)\n",
        "  glucose = st.sidebar.slider('glucose',0,199,117)\n",
        "  bloodPressure = st.sidebar.slider('blood_pressure',0,122,72)\n",
        "  skinThickness = st.sidebar.slider('skin_thickness',0,99,23)\n",
        "  insulin = st.sidebar.slider('insulin',0.0,846.0,30.0)\n",
        "  BMI = st.sidebar.slider('BMI',0.0,67.1,32.0)\n",
        "  DiabetesPedigreeFunction = st.sidebar.slider('DPF',0.078,2.42,0.3725)\n",
        "  age = st.sidebar.slider('age',21,81,29)\n",
        "\n",
        "  #Store a dictionary into a variable\n",
        "  user_data = {\n",
        "      'pregnancies' : pregnancies,\n",
        "      'glucose' : glucose,\n",
        "      'blood_pressure' : bloodPressure,\n",
        "      'skin_thickness' : skinThickness,\n",
        "      'insulin' : insulin,\n",
        "      'BMI' : BMI,\n",
        "      'DPF' : DiabetesPedigreeFunction,\n",
        "      'age' : age\n",
        "  }\n",
        "  #Transform the data into a dataframe\n",
        "  features = pd.DataFrame(user_data,index = [0])\n",
        "  return features\n",
        "\n",
        "#Store the user input into a variable \n",
        "user_input = get_user_input()\n",
        "\n",
        "#Set a subheader and display the user input\n",
        "st.subheader(\"User Input : \")\n",
        "st.write(user_input)\n",
        "\n",
        "#Create and train the model\n",
        "RandomForestClassifier = RandomForestClassifier()\n",
        "RandomForestClassifier.fit(X_train,Y_train)\n",
        "\n",
        "#Show the model metrics\n",
        "st.subheader(\"Model Test Accuracy Score : \")\n",
        "st.write(str(accuracy_score(Y_test,RandomForestClassifier.predict(X_test)) * 100)+'%')\n",
        "\n",
        "#Store the models prediction in a variable\n",
        "prediction = RandomForestClassifier.predict(user_input)\n",
        "print(prediction)\n",
        "#Set a subheader and display the prediction\n",
        "st.subheader('Prediction Result : ')\n",
        "if prediction == 1:\n",
        "  st.write(\" The Patient has Diabetes\")\n",
        "else:\n",
        "  st.write(\"The Patient doesn't have Diabetes\")"
      ],
      "execution_count": null,
      "outputs": []
    },
    {
      "cell_type": "code",
      "metadata": {
        "id": "vVNOdAUGvfGK",
        "colab_type": "code",
        "colab": {
          "base_uri": "https://localhost:8080/",
          "height": 34
        },
        "outputId": "1a2afadc-e64d-48f6-ca6e-dfe57b0d5b9f"
      },
      "source": [
        "get_ipython().system_raw('./ngrok http 8501 &')\n",
        "! curl -s http://localhost:4040/api/tunnels | python3 -c \\\n",
        "    \"import sys, json; print(json.load(sys.stdin)['tunnels'][1]['public_url'])\""
      ],
      "execution_count": 45,
      "outputs": [
        {
          "output_type": "stream",
          "text": [
            "http://19b9803d3d6d.ngrok.io\n"
          ],
          "name": "stdout"
        }
      ]
    },
    {
      "cell_type": "code",
      "metadata": {
        "id": "EToOdH9-vioz",
        "colab_type": "code",
        "colab": {
          "base_uri": "https://localhost:8080/",
          "height": 170
        },
        "outputId": "917cb010-285d-489d-9471-d17947241748"
      },
      "source": [
        "!streamlit run app.py"
      ],
      "execution_count": 46,
      "outputs": [
        {
          "output_type": "stream",
          "text": [
            "\u001b[0m\n",
            "\u001b[34m\u001b[1m  You can now view your Streamlit app in your browser.\u001b[0m\n",
            "\u001b[0m\n",
            "\u001b[34m  Network URL: \u001b[0m\u001b[1mhttp://172.28.0.2:8501\u001b[0m\n",
            "\u001b[34m  External URL: \u001b[0m\u001b[1mhttp://35.223.76.175:8501\u001b[0m\n",
            "\u001b[0m\n",
            "[0]\n",
            "[1]\n",
            "\u001b[34m  Stopping...\u001b[0m\n"
          ],
          "name": "stdout"
        }
      ]
    }
  ]
}